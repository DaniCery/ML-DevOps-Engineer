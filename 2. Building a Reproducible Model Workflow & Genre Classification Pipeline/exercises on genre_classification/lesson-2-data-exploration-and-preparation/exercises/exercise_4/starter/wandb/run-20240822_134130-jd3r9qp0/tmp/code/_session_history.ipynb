{
 "cells": [
  {
   "cell_type": "code",
   "execution_count": 1,
   "id": "4f66f16a",
   "metadata": {},
   "outputs": [],
   "source": [
    "import pandas as pd\n",
    "import wandb\n",
    "from pandas_profiling import ProfileReport"
   ]
  },
  {
   "cell_type": "code",
   "execution_count": 2,
   "id": "55f925c5",
   "metadata": {},
   "outputs": [],
   "source": [
    "import pandas as pd\n",
    "import wandb\n",
    "from pandas_profiling import ProfileReport"
   ]
  },
  {
   "cell_type": "code",
   "execution_count": 3,
   "id": "25715a77",
   "metadata": {},
   "outputs": [],
   "source": [
    "import pandas as pd\n",
    "import wandb\n",
    "from pandas_profiling import ProfileReport"
   ]
  },
  {
   "cell_type": "code",
   "execution_count": 4,
   "id": "c4de7c74",
   "metadata": {},
   "outputs": [],
   "source": [
    "import pandas as pd\n",
    "import wandb\n",
    "from pandas_profiling import ProfileReport"
   ]
  },
  {
   "cell_type": "code",
   "execution_count": 5,
   "id": "937d2ccc",
   "metadata": {},
   "outputs": [],
   "source": [
    "import pandas as pd\n",
    "import wandb\n",
    "from pandas_profiling import ProfileReport"
   ]
  },
  {
   "cell_type": "code",
   "execution_count": 6,
   "id": "29f4dece",
   "metadata": {},
   "outputs": [],
   "source": [
    "import pandas as pd\n",
    "import wandb\n",
    "from ydata_profiling import ProfileReport"
   ]
  },
  {
   "cell_type": "code",
   "execution_count": 7,
   "id": "cefa49c0",
   "metadata": {},
   "outputs": [],
   "source": [
    "\n",
    "with wandb.init(\n",
    "    project= 'exercise_4', \n",
    "    job_type='EDA', \n",
    "    save_code=True) as run:\n",
    "\n",
    "    #Fetch the artifact using W&B\n",
    "    artifact = run.use_artifact(\"exercise_4/genres_mod.parquet:latest\")\n",
    "    df = pd.read_parquet(artifact.file())\n",
    "    df.head()\n",
    "\n",
    "    #Generate a profile and note the warnings:\n",
    "    profile = ProfileReport(df, title=\"Pandas Profiling Report\", explorative=True)\n",
    "    profile.to_widgets()\n",
    "\n",
    "    #Remove the duplicates:\n",
    "    df = df.drop_duplicates().reset_index(drop=True)\n",
    "\n",
    "    #Minimal feature enginnering\n",
    "    df['title'].fillna(value='', inplace=True)\n",
    "    df['song_name'].fillna(value='', inplace=True)\n",
    "    df['text_feature'] = df['title'] + ' ' + df['song_name']\n",
    "\n",
    "    run.finish()"
   ]
  },
  {
   "cell_type": "code",
   "execution_count": 8,
   "id": "3a1a9fef",
   "metadata": {},
   "outputs": [
    {
     "data": {
      "text/html": [
       "Tracking run with wandb version 0.17.7"
      ],
      "text/plain": [
       "<IPython.core.display.HTML object>"
      ]
     },
     "metadata": {},
     "output_type": "display_data"
    },
    {
     "data": {
      "text/html": [
       "Run data is saved locally in <code>/Users/f81658c/Documents/Git repo/ML-DevOps-Engineer/nd0821-c2-build-model-workflow-exercises/lesson-2-data-exploration-and-preparation/exercises/exercise_4/starter/wandb/run-20240822_134130-jd3r9qp0</code>"
      ],
      "text/plain": [
       "<IPython.core.display.HTML object>"
      ]
     },
     "metadata": {},
     "output_type": "display_data"
    },
    {
     "data": {
      "text/html": [
       "Syncing run <strong><a href='https://wandb.ai/dace-/exercise_4/runs/jd3r9qp0' target=\"_blank\">celestial-pine-3</a></strong> to <a href='https://wandb.ai/dace-/exercise_4' target=\"_blank\">Weights & Biases</a> (<a href='https://wandb.me/run' target=\"_blank\">docs</a>)<br/>"
      ],
      "text/plain": [
       "<IPython.core.display.HTML object>"
      ]
     },
     "metadata": {},
     "output_type": "display_data"
    },
    {
     "data": {
      "text/html": [
       " View project at <a href='https://wandb.ai/dace-/exercise_4' target=\"_blank\">https://wandb.ai/dace-/exercise_4</a>"
      ],
      "text/plain": [
       "<IPython.core.display.HTML object>"
      ]
     },
     "metadata": {},
     "output_type": "display_data"
    },
    {
     "data": {
      "text/html": [
       " View run at <a href='https://wandb.ai/dace-/exercise_4/runs/jd3r9qp0' target=\"_blank\">https://wandb.ai/dace-/exercise_4/runs/jd3r9qp0</a>"
      ],
      "text/plain": [
       "<IPython.core.display.HTML object>"
      ]
     },
     "metadata": {},
     "output_type": "display_data"
    }
   ],
   "source": [
    "\n",
    "with wandb.init(\n",
    "    project= 'exercise_4', \n",
    "    job_type='EDA', \n",
    "    save_code=True) as run:\n",
    "\n",
    "    os.environ[\"WANDB_NOTEBOOK_NAME\"] = 'EDA.ipynb'\n",
    "    #Fetch the artifact using W&B\n",
    "    artifact = run.use_artifact(\"exercise_4/genres_mod.parquet:latest\")\n",
    "    df = pd.read_parquet(artifact.file())\n",
    "    df.head()\n",
    "\n",
    "    #Generate a profile and note the warnings:\n",
    "    profile = ProfileReport(df, title=\"Pandas Profiling Report\", explorative=True)\n",
    "    profile.to_widgets()\n",
    "\n",
    "    #Remove the duplicates:\n",
    "    df = df.drop_duplicates().reset_index(drop=True)\n",
    "\n",
    "    #Minimal feature enginnering\n",
    "    df['title'].fillna(value='', inplace=True)\n",
    "    df['song_name'].fillna(value='', inplace=True)\n",
    "    df['text_feature'] = df['title'] + ' ' + df['song_name']\n",
    "\n",
    "    run.finish()"
   ]
  }
 ],
 "metadata": {
  "kernelspec": {
   "display_name": "Python 3",
   "language": "python",
   "name": "python3"
  },
  "language_info": {
   "codemirror_mode": {
    "name": "ipython",
    "version": 3
   },
   "file_extension": ".py",
   "mimetype": "text/x-python",
   "name": "python",
   "nbconvert_exporter": "python",
   "pygments_lexer": "ipython3",
   "version": "3.8.19"
  }
 },
 "nbformat": 4,
 "nbformat_minor": 5
}
